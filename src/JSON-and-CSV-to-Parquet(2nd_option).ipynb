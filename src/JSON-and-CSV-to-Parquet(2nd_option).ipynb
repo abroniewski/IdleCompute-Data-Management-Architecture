{
 "cells": [
  {
   "cell_type": "markdown",
   "metadata": {},
   "source": [
    "Import all necessary libraries\n"
   ]
  },
  {
   "cell_type": "code",
   "execution_count": 6,
   "metadata": {},
   "outputs": [],
   "source": [
    "import os\n",
    "import re\n",
    "from pyarrow import json, csv\n",
    "import pyarrow.parquet as pq\n",
    "from hdfs import InsecureClient"
   ]
  },
  {
   "cell_type": "markdown",
   "metadata": {},
   "source": [
    "Define our global variables. TEMPORAL_DIR is the temporary landing zone where raw files will be placed that need to be processed PERSISTANT_DIR will be the location of files converted to the selected file format"
   ]
  },
  {
   "cell_type": "code",
   "execution_count": 2,
   "metadata": {},
   "outputs": [],
   "source": [
    "TEMPORAL_DIR = '/home/vladka/Downloads/BDMA/BDM'\n",
    "#Change on your host port\n",
    "HDFS_DIR = InsecureClient('http://host:port', user='adam')"
   ]
  },
  {
   "cell_type": "markdown",
   "metadata": {},
   "source": [
    "Here we create a simple function that will convert a JSON file into a parquet file, and place the converted file into the appropriate location"
   ]
  },
  {
   "cell_type": "code",
   "execution_count": 3,
   "metadata": {},
   "outputs": [],
   "source": [
    "def convert_json_to_parquet(input_filename, input_dir, output_filename, output_dir, hdfs_dir):\n",
    "    '''\n",
    "    This function will take an input file in the form of JSON from a given directory,\n",
    "    convert the file to a parquet, and place the file in a directory specified in parameters.\n",
    "\n",
    "    :param input_filename: filename (including extension) that will be converted into parquet file\n",
    "    :param input_dir: directory where the JSON file exists\n",
    "    :param output_dir: directory where the parquet file should be placed after conversion\n",
    "    :param output_filename: filename that will be given to converted parquet file\n",
    "    :return: None\n",
    "    '''\n",
    "    table = json.read_json(f'{input_dir}/{input_filename}')\n",
    "    pq.write_table(table, f'{output_dir}/{output_filename}')\n",
    "    file = pq.read_table(f'{output_dir}/{output_filename}')\n",
    "    hdfs_dir.write(f'{output_filename}',file)\n",
    "    "
   ]
  },
  {
   "cell_type": "markdown",
   "metadata": {},
   "source": [
    "Here we create a simple function that will convert a JSON file into a parquet file, and place the converted file into the appropriate location"
   ]
  },
  {
   "cell_type": "code",
   "execution_count": 4,
   "metadata": {},
   "outputs": [],
   "source": [
    "def convert_csv_to_parquet(input_filename, input_dir, output_filename, output_dir, hdfs_dir):\n",
    "    '''\n",
    "    This function will take an input file in the form of CSV from a given directory,\n",
    "    convert the file to a parquet, and place the file in a directory specified in parameters.\n",
    "\n",
    "    :param input_filename: filename (including extension) that will be converted into parquet file\n",
    "    :param input_dir: directory where the CSV file exists\n",
    "    :param output_dir: directory where the parquet file should be placed after conversion\n",
    "    :param output_filename: filename that will be given to converted parquet file\n",
    "    :return: None\n",
    "    '''\n",
    "    table = csv.read_csv(f'{input_dir}/{input_filename}')\n",
    "    pq.write_table(table, f'{output_dir}/{output_filename}')\n",
    "    file = pq.read_table(f'{output_dir}/{output_filename}')\n",
    "    hdfs_dir.write(f'{output_filename}',file)\n",
    "\n",
    "    "
   ]
  },
  {
   "cell_type": "markdown",
   "metadata": {},
   "source": [
    "First we can strip primary metadata information from the filename as received from the website."
   ]
  },
  {
   "cell_type": "code",
   "execution_count": 8,
   "metadata": {},
   "outputs": [
    {
     "ename": "IndexError",
     "evalue": "list index out of range",
     "output_type": "error",
     "traceback": [
      "\u001b[0;31m---------------------------------------------------------------------------\u001b[0m",
      "\u001b[0;31mIndexError\u001b[0m                                Traceback (most recent call last)",
      "\u001b[0;32m<ipython-input-8-bebcea9aaa5b>\u001b[0m in \u001b[0;36m<module>\u001b[0;34m\u001b[0m\n\u001b[1;32m      2\u001b[0m     \u001b[0;32mif\u001b[0m \u001b[0;32mnot\u001b[0m \u001b[0mfilename\u001b[0m\u001b[0;34m.\u001b[0m\u001b[0mstartswith\u001b[0m\u001b[0;34m(\u001b[0m\u001b[0;34m'.'\u001b[0m\u001b[0;34m)\u001b[0m\u001b[0;34m:\u001b[0m \u001b[0;31m# do not process hidden files that start with \".\"\u001b[0m\u001b[0;34m\u001b[0m\u001b[0;34m\u001b[0m\u001b[0m\n\u001b[1;32m      3\u001b[0m         \u001b[0mmetadata\u001b[0m \u001b[0;34m=\u001b[0m \u001b[0mre\u001b[0m\u001b[0;34m.\u001b[0m\u001b[0msplit\u001b[0m\u001b[0;34m(\u001b[0m\u001b[0;34m'[-.]'\u001b[0m\u001b[0;34m,\u001b[0m\u001b[0mfilename\u001b[0m\u001b[0;34m)\u001b[0m \u001b[0;31m# splits the filename on '-' and '.' -> creates a list\u001b[0m\u001b[0;34m\u001b[0m\u001b[0;34m\u001b[0m\u001b[0m\n\u001b[0;32m----> 4\u001b[0;31m         \u001b[0mfile_directory\u001b[0m \u001b[0;34m=\u001b[0m \u001b[0;34mf\"{PERSISTENT_DIR}/{metadata[0]}/{metadata[1]}\"\u001b[0m \u001b[0;31m# uses YYYY/MM as the name of the sub-directory\u001b[0m\u001b[0;34m\u001b[0m\u001b[0;34m\u001b[0m\u001b[0m\n\u001b[0m\u001b[1;32m      5\u001b[0m         \u001b[0mnew_filename\u001b[0m \u001b[0;34m=\u001b[0m \u001b[0;34mf\"{metadata[3]}-{metadata[4]}\"\u001b[0m \u001b[0;31m# new file name will be userID-taskID\u001b[0m\u001b[0;34m\u001b[0m\u001b[0;34m\u001b[0m\u001b[0m\n\u001b[1;32m      6\u001b[0m         \u001b[0;32mif\u001b[0m \u001b[0;32mnot\u001b[0m \u001b[0mos\u001b[0m\u001b[0;34m.\u001b[0m\u001b[0mpath\u001b[0m\u001b[0;34m.\u001b[0m\u001b[0mexists\u001b[0m\u001b[0;34m(\u001b[0m\u001b[0mfile_directory\u001b[0m\u001b[0;34m)\u001b[0m\u001b[0;34m:\u001b[0m \u001b[0;31m# creates the directory if it doesn't exist\u001b[0m\u001b[0;34m\u001b[0m\u001b[0;34m\u001b[0m\u001b[0m\n",
      "\u001b[0;31mIndexError\u001b[0m: list index out of range"
     ]
    }
   ],
   "source": [
    "for filename in os.listdir(TEMPORAL_DIR): # iterate over all files in directory DIR\n",
    "    if not filename.startswith('.'): # do not process hidden files that start with \".\"\n",
    "        metadata = re.split('[-.]',filename) # splits the filename on '-' and '.' -> creates a list\n",
    "        file_directory = f\"{TEMPORAL_DIR}/{metadata[0]}/{metadata[1]}\" # uses YYYY/MM as the name of the sub-directory\n",
    "        new_filename = f\"{metadata[3]}-{metadata[4]}\"# new file name will be userID-taskID\n",
    "        hdfs_dir = f\"{HDFS_DIR}/{metadata[0]}/{metadata[1]}\"\n",
    "        if not os.path.exists(file_directory): # creates the directory if it doesn't exist\n",
    "            os.makedirs(file_directory)\n",
    "        if metadata[5] == \"json\":\n",
    "            convert_json_to_parquet(filename, TEMPORAL_DIR, new_filename, file_directory, hdfs_dir)\n",
    "        elif metadata[5] == \"csv\":\n",
    "            convert_csv_to_parquet(filename, TEMPORAL_DIR, new_filename, file_directory, hdfs_dir)"
   ]
  },
  {
   "cell_type": "code",
   "execution_count": null,
   "metadata": {},
   "outputs": [],
   "source": []
  }
 ],
 "metadata": {
  "kernelspec": {
   "display_name": "Python 3",
   "language": "python",
   "name": "python3"
  },
  "language_info": {
   "codemirror_mode": {
    "name": "ipython",
    "version": 3
   },
   "file_extension": ".py",
   "mimetype": "text/x-python",
   "name": "python",
   "nbconvert_exporter": "python",
   "pygments_lexer": "ipython3",
   "version": "3.8.10"
  }
 },
 "nbformat": 4,
 "nbformat_minor": 4
}
