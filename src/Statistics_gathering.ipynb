{
 "cells": [
  {
   "cell_type": "code",
   "execution_count": 2,
   "metadata": {
    "pycharm": {
     "name": "#%%\n"
    }
   },
   "outputs": [],
   "source": [
    "import pandas as pd\n",
    "from hdfs import InsecureClient"
   ]
  },
  {
   "cell_type": "code",
   "execution_count": 24,
   "metadata": {
    "pycharm": {
     "name": "#%%\n"
    }
   },
   "outputs": [],
   "source": [
    "file_path = '../data/admin/'"
   ]
  },
  {
   "cell_type": "code",
   "execution_count": 41,
   "metadata": {
    "pycharm": {
     "name": "#%%\n"
    }
   },
   "outputs": [
    {
     "name": "stdout",
     "output_type": "stream",
     "text": [
      "   accessTime  blockSize  childrenNum   fileId       group  length  \\\n",
      "0         0.0        0.0          1.0  16463.0  supergroup     0.0   \n",
      "1         0.0        0.0          1.0  16463.0  supergroup     0.0   \n",
      "2         0.0        0.0          1.0  16463.0  supergroup     0.0   \n",
      "3         0.0        0.0          1.0  16463.0  supergroup     0.0   \n",
      "\n",
      "   modificationTime owner pathSuffix permission  replication  storagePolicy  \\\n",
      "0      1.655027e+12   bdm                   755          0.0            0.0   \n",
      "1      1.655027e+12   bdm                   755          0.0            0.0   \n",
      "2      1.655027e+12   bdm                   755          0.0            0.0   \n",
      "3      1.655027e+12   bdm                   755          0.0            0.0   \n",
      "\n",
      "        type  \n",
      "0  DIRECTORY  \n",
      "1  DIRECTORY  \n",
      "2  DIRECTORY  \n",
      "3  DIRECTORY  \n"
     ]
    }
   ],
   "source": [
    "def files_statistics(file_path):\n",
    "#files statistics\n",
    "#in this piece of code we collect all files statistics\n",
    "\n",
    "    host_list = pd.read_csv(f\"{file_path}machine_in_progress.csv\")\n",
    "    machines = host_list[\"IP\"]\n",
    "\n",
    "    statistic_table = pd.DataFrame()\n",
    "    for m in machines:\n",
    "        client = InsecureClient(f'http://10.4.41.{m}:9870',user='bdm')\n",
    "        for file in client.list(\"./\"):\n",
    "            stat = (client.status(file))\n",
    "            statistic_table = statistic_table.append(stat, ignore_index = True)\n",
    "    print(statistic_table)\n",
    "    statistic_table.to_csv(f'{file_path}files_statistics.csv')\n",
    "    \n",
    "files_statistics(file_path)    "
   ]
  },
  {
   "cell_type": "code",
   "execution_count": 91,
   "metadata": {
    "pycharm": {
     "name": "#%%\n"
    }
   },
   "outputs": [
    {
     "name": "stdout",
     "output_type": "stream",
     "text": [
      "Statistics file number:0\n",
      "Statistics file number:1\n",
      "Statistics file number:2\n",
      "Statistics file number:3\n",
      "Statistics file number:4\n",
      "Statistics file number:5\n",
      "Statistics file number:6\n",
      "Statistics file number:7\n",
      "Statistics file number:8\n",
      "Statistics file number:9\n",
      "Statistics file number:10\n",
      "Statistics file number:11\n",
      "Statistics file number:12\n",
      "Statistics file number:13\n",
      "Statistics file number:14\n",
      "Statistics file number:15\n",
      "Statistics file number:16\n",
      "Statistics file number:17\n",
      "Statistics file number:18\n",
      "Statistics file number:19\n",
      "Statistics file number:20\n",
      "Statistics file number:21\n",
      "Statistics file number:22\n",
      "Statistics file number:23\n",
      "Statistics file number:24\n",
      "Statistics file number:25\n",
      "Statistics file number:26\n",
      "Statistics file number:27\n",
      "Statistics file number:28\n",
      "Statistics file number:29\n",
      "Statistics file number:30\n",
      "Statistics file number:31\n",
      "Statistics file number:32\n",
      "Statistics file number:33\n",
      "Statistics file number:34\n",
      "Statistics file number:35\n",
      "Statistics file number:36\n",
      "Statistics file number:37\n",
      "Statistics file number:38\n",
      "Statistics file number:39\n"
     ]
    }
   ],
   "source": [
    "def hadoop_statistics(file_path):\n",
    "#hadoop statistics\n",
    "#in this piece of code we collect all hadoop statistics\n",
    "#json file was obtained in browser with this link http://10.4.41.107:9870/jmx\n",
    "\n",
    "    hadoop_json = pd.read_json(f\"{file_path}hadoop_statistics.json\")\n",
    "    hadoop_data_frame = pd.DataFrame(hadoop_json)\n",
    "    for row in range(len(hadoop_data_frame)):\n",
    "        df = pd.DataFrame()\n",
    "        df = df.append(hadoop_data_frame['beans'][row], ignore_index = True)\n",
    "        x = df['name'].str.split(',')[0][0]\n",
    "        df.to_csv(f'{file_path}statistics_{x}.csv')  \n",
    "        print(f'Statistics file number:{row}')\n",
    "        \n",
    "hadoop_statistics(file_path)  "
   ]
  }
 ],
 "metadata": {
  "kernelspec": {
   "display_name": "Python 3",
   "language": "python",
   "name": "python3"
  },
  "language_info": {
   "codemirror_mode": {
    "name": "ipython",
    "version": 3
   },
   "file_extension": ".py",
   "mimetype": "text/x-python",
   "name": "python",
   "nbconvert_exporter": "python",
   "pygments_lexer": "ipython3",
   "version": "3.8.10"
  }
 },
 "nbformat": 4,
 "nbformat_minor": 4
}