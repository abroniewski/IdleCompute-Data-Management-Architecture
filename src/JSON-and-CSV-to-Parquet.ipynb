{
 "cells": [
  {
   "cell_type": "markdown",
   "metadata": {},
   "source": [
    "Import all necessary libraries\n"
   ]
  },
  {
   "cell_type": "code",
   "execution_count": 12,
   "metadata": {},
   "outputs": [],
   "source": [
    "import os\n",
    "import re\n",
    "from pyarrow import json, csv\n",
    "import pyarrow.parquet as p"
   ]
  },
  {
   "cell_type": "markdown",
   "metadata": {},
   "source": [
    "Define our global variables. TEMPORAL_DIR is the temporary landing zone where raw files will be placed that need to be processed PERSISTANT_DIR will be the location of files converted to the selected file format"
   ]
  },
  {
   "cell_type": "code",
   "execution_count": 19,
   "metadata": {},
   "outputs": [],
   "source": [
    "TEMPORAL_DIR = '../data/raw'\n",
    "PERSISTENT_DIR = '../data/raw'"
   ]
  },
  {
   "cell_type": "markdown",
   "metadata": {},
   "source": [
    "Here we create a simple function that will convert a JSON file into a parquet file, and place the converted file into the appropriate location"
   ]
  },
  {
   "cell_type": "code",
   "execution_count": 14,
   "metadata": {},
   "outputs": [],
   "source": [
    "def convert_json_to_parquet(input_filename, input_dir, output_filename, output_dir):\n",
    "    '''\n",
    "    This function will take an input file in the form of JSON from a given directory,\n",
    "    convert the file to a parquet, and place the file in a directory specified in parameters.\n",
    "\n",
    "    :param input_filename: filename (including extension) that will be converted into parquet file\n",
    "    :param input_dir: directory where the JSON file exists\n",
    "    :param output_dir: directory where the parquet file should be placed after conversion\n",
    "    :param output_filename: filename that will be given to converted parquet file\n",
    "    :return: None\n",
    "    '''\n",
    "    table = json.read_json(f'{input_dir}/{input_filename}')\n",
    "    pq.write_table(table, f'{output_dir}/{output_filename}')"
   ]
  },
  {
   "cell_type": "markdown",
   "metadata": {},
   "source": [
    "Here we create a simple function that will convert a JSON file into a parquet file, and place the converted file into the appropriate location"
   ]
  },
  {
   "cell_type": "code",
   "execution_count": 15,
   "metadata": {},
   "outputs": [],
   "source": [
    "def convert_csv_to_parquet(input_filename, input_dir, output_filename, output_dir):\n",
    "    '''\n",
    "    This function will take an input file in the form of CSV from a given directory,\n",
    "    convert the file to a parquet, and place the file in a directory specified in parameters.\n",
    "\n",
    "    :param input_filename: filename (including extension) that will be converted into parquet file\n",
    "    :param input_dir: directory where the CSV file exists\n",
    "    :param output_dir: directory where the parquet file should be placed after conversion\n",
    "    :param output_filename: filename that will be given to converted parquet file\n",
    "    :return: None\n",
    "    '''\n",
    "    table = csv.read_csv(f'{input_dir}/{input_filename}')\n",
    "    pq.write_table(table, f'{output_dir}/{output_filename}')"
   ]
  },
  {
   "cell_type": "markdown",
   "metadata": {},
   "source": [
    "First we can strip primary metadata information from the filename as received from the website."
   ]
  },
  {
   "cell_type": "code",
   "execution_count": 20,
   "metadata": {},
   "outputs": [],
   "source": [
    "for filename in os.listdir(TEMPORAL_DIR): # iterate over all files in directory DIR\n",
    "    if not filename.startswith('.'): # do not process hidden files that start with \".\"\n",
    "        metadata = re.split('[-.]',filename) # splits the filename on '-' and '.' -> creates a list\n",
    "        file_directory = f\"{PERSISTENT_DIR}/{metadata[0]}/{metadata[1]}\" # uses YYYY/MM as the name of the sub-directory\n",
    "        new_filename = f\"{metadata[3]}-{metadata[4]}\" # new file name will be userID-taskID\n",
    "        if not os.path.exists(file_directory): # creates the directory if it doesn't exist\n",
    "            os.makedirs(file_directory)\n",
    "        if metadata[5] == \"json\":\n",
    "            convert_json_to_parquet(filename, TEMPORAL_DIR, new_filename, file_directory)\n",
    "        elif metadata[5] == \"csv\":\n",
    "            convert_csv_to_parquet(filename, TEMPORAL_DIR, new_filename, file_directory)"
   ]
  }
 ],
 "metadata": {
  "kernelspec": {
   "display_name": "Python 3",
   "language": "python",
   "name": "python3"
  },
  "language_info": {
   "codemirror_mode": {
    "name": "ipython",
    "version": 3
   },
   "file_extension": ".py",
   "mimetype": "text/x-python",
   "name": "python",
   "nbconvert_exporter": "python",
   "pygments_lexer": "ipython3",
   "version": "3.8.10"
  }
 },
 "nbformat": 4,
 "nbformat_minor": 4
}
